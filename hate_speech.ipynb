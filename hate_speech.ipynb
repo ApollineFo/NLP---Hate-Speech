{
  "nbformat": 4,
  "nbformat_minor": 0,
  "metadata": {
    "colab": {
      "name": "hate_speech.ipynb",
      "provenance": [],
      "authorship_tag": "ABX9TyNb+CL55VyTCAarL/aklxfh",
      "include_colab_link": true
    },
    "kernelspec": {
      "display_name": "Python 3",
      "name": "python3"
    }
  },
  "cells": [
    {
      "cell_type": "markdown",
      "metadata": {
        "id": "view-in-github",
        "colab_type": "text"
      },
      "source": [
        "<a href=\"https://colab.research.google.com/github/ApollineFo/NLP---Hate-Speech/blob/main/hate_speech.ipynb\" target=\"_parent\"><img src=\"https://colab.research.google.com/assets/colab-badge.svg\" alt=\"Open In Colab\"/></a>"
      ]
    },
    {
      "cell_type": "code",
      "metadata": {
        "colab": {
          "base_uri": "https://localhost:8080/"
        },
        "id": "oen0lLTJjEvp",
        "outputId": "6787fc7a-44de-4158-91e4-9ce03f680b23"
      },
      "source": [
        "#calling important libraries\n",
        "import pandas as pd #for data manipulation\n",
        "import numpy as np #for data manipulation\n",
        "import matplotlib as plt #for plotting\n",
        "import os #for ease of python system interaction\n",
        "import sys\n",
        "import re\n",
        "import nltk\n",
        "nltk.download(\"stopwords\")\n",
        "import pickle\n",
        "from nltk.corpus import stopwords\n",
        "from sklearn.feature_extraction.text import TfidfVectorizer\n",
        "from sklearn.pipeline import Pipeline\n",
        "from sklearn.svm import SVC\n",
        "from sklearn import svm\n",
        "from sklearn.model_selection import GridSearchCV\n",
        "from sklearn.multiclass import OneVsRestClassifier\n",
        "from sklearn import svm"
      ],
      "execution_count": 1,
      "outputs": [
        {
          "output_type": "stream",
          "text": [
            "[nltk_data] Downloading package stopwords to /root/nltk_data...\n",
            "[nltk_data]   Unzipping corpora/stopwords.zip.\n"
          ],
          "name": "stdout"
        }
      ]
    },
    {
      "cell_type": "code",
      "metadata": {
        "colab": {
          "base_uri": "https://localhost:8080/",
          "height": 195
        },
        "id": "ZSfRHiZinjcz",
        "outputId": "a01b50cd-2e59-4c9c-8e78-44b074936ead"
      },
      "source": [
        "#retrieving the data\n",
        "url = \"https://raw.githubusercontent.com/ApollineFo/NPL/main/data/labeled_data.csv\"\n",
        "\n",
        "data = pd.read_csv(url)\n",
        "#checking the dataset features\n",
        "data.keys()\n",
        "data.head()"
      ],
      "execution_count": 14,
      "outputs": [
        {
          "output_type": "execute_result",
          "data": {
            "text/html": [
              "<div>\n",
              "<style scoped>\n",
              "    .dataframe tbody tr th:only-of-type {\n",
              "        vertical-align: middle;\n",
              "    }\n",
              "\n",
              "    .dataframe tbody tr th {\n",
              "        vertical-align: top;\n",
              "    }\n",
              "\n",
              "    .dataframe thead th {\n",
              "        text-align: right;\n",
              "    }\n",
              "</style>\n",
              "<table border=\"1\" class=\"dataframe\">\n",
              "  <thead>\n",
              "    <tr style=\"text-align: right;\">\n",
              "      <th></th>\n",
              "      <th>Unnamed: 0</th>\n",
              "      <th>count</th>\n",
              "      <th>hate_speech</th>\n",
              "      <th>offensive_language</th>\n",
              "      <th>neither</th>\n",
              "      <th>class</th>\n",
              "      <th>tweet</th>\n",
              "    </tr>\n",
              "  </thead>\n",
              "  <tbody>\n",
              "    <tr>\n",
              "      <th>0</th>\n",
              "      <td>0</td>\n",
              "      <td>3</td>\n",
              "      <td>0</td>\n",
              "      <td>0</td>\n",
              "      <td>3</td>\n",
              "      <td>2</td>\n",
              "      <td>!!! RT @mayasolovely: As a woman you shouldn't...</td>\n",
              "    </tr>\n",
              "    <tr>\n",
              "      <th>1</th>\n",
              "      <td>1</td>\n",
              "      <td>3</td>\n",
              "      <td>0</td>\n",
              "      <td>3</td>\n",
              "      <td>0</td>\n",
              "      <td>1</td>\n",
              "      <td>!!!!! RT @mleew17: boy dats cold...tyga dwn ba...</td>\n",
              "    </tr>\n",
              "    <tr>\n",
              "      <th>2</th>\n",
              "      <td>2</td>\n",
              "      <td>3</td>\n",
              "      <td>0</td>\n",
              "      <td>3</td>\n",
              "      <td>0</td>\n",
              "      <td>1</td>\n",
              "      <td>!!!!!!! RT @UrKindOfBrand Dawg!!!! RT @80sbaby...</td>\n",
              "    </tr>\n",
              "    <tr>\n",
              "      <th>3</th>\n",
              "      <td>3</td>\n",
              "      <td>3</td>\n",
              "      <td>0</td>\n",
              "      <td>2</td>\n",
              "      <td>1</td>\n",
              "      <td>1</td>\n",
              "      <td>!!!!!!!!! RT @C_G_Anderson: @viva_based she lo...</td>\n",
              "    </tr>\n",
              "    <tr>\n",
              "      <th>4</th>\n",
              "      <td>4</td>\n",
              "      <td>6</td>\n",
              "      <td>0</td>\n",
              "      <td>6</td>\n",
              "      <td>0</td>\n",
              "      <td>1</td>\n",
              "      <td>!!!!!!!!!!!!! RT @ShenikaRoberts: The shit you...</td>\n",
              "    </tr>\n",
              "  </tbody>\n",
              "</table>\n",
              "</div>"
            ],
            "text/plain": [
              "   Unnamed: 0  count  ...  class                                              tweet\n",
              "0           0      3  ...      2  !!! RT @mayasolovely: As a woman you shouldn't...\n",
              "1           1      3  ...      1  !!!!! RT @mleew17: boy dats cold...tyga dwn ba...\n",
              "2           2      3  ...      1  !!!!!!! RT @UrKindOfBrand Dawg!!!! RT @80sbaby...\n",
              "3           3      3  ...      1  !!!!!!!!! RT @C_G_Anderson: @viva_based she lo...\n",
              "4           4      6  ...      1  !!!!!!!!!!!!! RT @ShenikaRoberts: The shit you...\n",
              "\n",
              "[5 rows x 7 columns]"
            ]
          },
          "metadata": {
            "tags": []
          },
          "execution_count": 14
        }
      ]
    },
    {
      "cell_type": "code",
      "metadata": {
        "id": "yI1eEvQsUBjY"
      },
      "source": [
        "#extracting only tweets as features\n",
        "features = data.iloc[:,6].values\n",
        "#extracting labels\n",
        "classes = data.iloc[:,5].values"
      ],
      "execution_count": 15,
      "outputs": []
    },
    {
      "cell_type": "code",
      "metadata": {
        "id": "UdI4T0vGWqNE"
      },
      "source": [
        "#preprocessing tweets\n",
        "processed_features = []\n",
        "\n",
        "for sentence in range(0, len(features)):\n",
        "    #Removing special characters\n",
        "    processed_feature = re.sub(r'\\W', ' ', str(features[sentence]))\n",
        "    #removing single characters\n",
        "    processed_feature= re.sub(r'\\s+[a-zA-Z]\\s+', ' ', processed_feature)\n",
        "    #Removing single characters from the start\n",
        "    processed_feature = re.sub(r'\\^[a-zA-Z]\\s+', ' ', processed_feature) \n",
        "    #Substituting multiple spaces with single space\n",
        "    processed_feature = re.sub(r'\\s+', ' ', processed_feature, flags=re.I)\n",
        "    #Removing prefixed 'b'\n",
        "    processed_feature = re.sub(r'^b\\s+', '', processed_feature)\n",
        "    #Converting to Lowercase\n",
        "    processed_feature = processed_feature.lower()\n",
        "\n",
        "    processed_features.append(processed_feature)"
      ],
      "execution_count": 16,
      "outputs": []
    },
    {
      "cell_type": "code",
      "metadata": {
        "id": "CVqwCRVe8jyO"
      },
      "source": [
        "#specifying parameters\n",
        "parameters = [\n",
        "    {\n",
        "    'vect__max_df': (0.9,), #ignore terms with frequency higher than aforementioned\n",
        "        'vect__min_df': (2,), #ignore lower frequencies than aforementioned\n",
        "        'vect__ngram_range': ((1, 1),), #only unigrams\n",
        "        'clf__estimator__kernel': ['rbf'], #gausian kernel\n",
        "    'clf__estimator__gamma': [1e0,], #a gamma of zero\n",
        "        'clf__estimator__C': [1,],\n",
        "        'clf__estimator__class_weight': [None, \"balanced\"] #balanced weight\n",
        "    },\n",
        "    {\n",
        "        'vect__max_df': (0.9,),\n",
        "        'vect__min_df': (2,),\n",
        "        'vect__ngram_range': ((1, 1),),\n",
        "        'clf__estimator__kernel': ['linear'], #linear kernel\n",
        "    'clf__estimator__C': [1,]\n",
        "    }\n",
        "]"
      ],
      "execution_count": 17,
      "outputs": []
    },
    {
      "cell_type": "code",
      "metadata": {
        "id": "ZQv_UCVxeGUw"
      },
      "source": [
        "# building a pipeline\n",
        "pipeline = Pipeline([('vect', TfidfVectorizer(parameters)),                     \n",
        "    ('clf', OneVsRestClassifier(SVC(probability=True))),\n",
        "])"
      ],
      "execution_count": 18,
      "outputs": []
    },
    {
      "cell_type": "code",
      "metadata": {
        "id": "TgTn8OKX8V01"
      },
      "source": [
        "#splitting the dataset to trian and test set\n",
        "#80 percent of data for training, 20 percent for testing\n",
        "from sklearn.model_selection import train_test_split\n",
        "\n",
        "X_train, X_test, y_train, y_test = train_test_split(processed_features, classes, test_size=0.2, random_state=42)"
      ],
      "execution_count": 19,
      "outputs": []
    },
    {
      "cell_type": "code",
      "metadata": {
        "id": "WfRSuZDA7I5y"
      },
      "source": [
        "#grid search\n",
        "grid_search = GridSearchCV(pipeline, parameters, n_jobs=-1, verbose=1)"
      ],
      "execution_count": 20,
      "outputs": []
    },
    {
      "cell_type": "code",
      "metadata": {
        "id": "QBQCaWbPrpmj",
        "colab": {
          "base_uri": "https://localhost:8080/"
        },
        "outputId": "e9af4da7-0d2a-40eb-d0b7-1531941fbdb9"
      },
      "source": [
        "#fitting the classifier\n",
        "classifier = grid_search.fit(X_train, y_train)\n",
        "\n",
        "#predicting\n",
        "y_predict = classifier.predict(X_test)"
      ],
      "execution_count": null,
      "outputs": [
        {
          "output_type": "stream",
          "text": [
            "Fitting 5 folds for each of 3 candidates, totalling 15 fits\n"
          ],
          "name": "stdout"
        },
        {
          "output_type": "stream",
          "text": [
            "[Parallel(n_jobs=-1)]: Using backend LokyBackend with 2 concurrent workers.\n"
          ],
          "name": "stderr"
        }
      ]
    },
    {
      "cell_type": "code",
      "metadata": {
        "colab": {
          "base_uri": "https://localhost:8080/"
        },
        "id": "pmnpiNahnXOe",
        "outputId": "616109b1-4477-42cf-e537-423f1c558784"
      },
      "source": [
        "#confusion matrix\n",
        "from sklearn.metrics import classification_report, confusion_matrix\n",
        "print(confusion_matrix(y_test, y_predict))\n",
        "print(classification_report(y_test, y_predict))"
      ],
      "execution_count": 13,
      "outputs": [
        {
          "output_type": "stream",
          "text": [
            "[[  51  198   41]\n",
            " [  38 3678  116]\n",
            " [   4   86  745]]\n",
            "              precision    recall  f1-score   support\n",
            "\n",
            "           0       0.55      0.18      0.27       290\n",
            "           1       0.93      0.96      0.94      3832\n",
            "           2       0.83      0.89      0.86       835\n",
            "\n",
            "    accuracy                           0.90      4957\n",
            "   macro avg       0.77      0.68      0.69      4957\n",
            "weighted avg       0.89      0.90      0.89      4957\n",
            "\n"
          ],
          "name": "stdout"
        }
      ]
    },
    {
      "cell_type": "code",
      "metadata": {
        "colab": {
          "base_uri": "https://localhost:8080/"
        },
        "id": "T_gREW9ajN0f",
        "outputId": "697ebf13-9a19-49bd-c873-ea3dd2a8796c"
      },
      "source": [
        "#evaluating the model with ROC AUC score\n",
        "from sklearn.metrics import roc_auc_score\n",
        "roc_auc_score(y_test, classifier.predict_proba(X_test), multi_class=\"ovr\")\n",
        "\n",
        "#with a higher score than 0.5, signifies that our model is useful."
      ],
      "execution_count": null,
      "outputs": [
        {
          "output_type": "execute_result",
          "data": {
            "text/plain": [
              "0.630180719651229"
            ]
          },
          "metadata": {
            "tags": []
          },
          "execution_count": 193
        }
      ]
    },
    {
      "cell_type": "code",
      "metadata": {
        "colab": {
          "base_uri": "https://localhost:8080/"
        },
        "id": "05SkEsEdI2pL",
        "outputId": "50397ac3-62f3-458c-de89-ea5c1855eccd"
      },
      "source": [
        "#evaluating the model using cross validation\n",
        "from sklearn.model_selection import cross_val_score\n",
        "all_accuracies = cross_val_score(estimator=classifier, X=X_train, y=y_train, cv=5)\n",
        "\n",
        "#returning accuracies of the folds\n",
        "print(all_accuracies)"
      ],
      "execution_count": null,
      "outputs": [
        {
          "output_type": "stream",
          "text": [
            "Fitting 5 folds for each of 3 candidates, totalling 15 fits\n"
          ],
          "name": "stdout"
        },
        {
          "output_type": "stream",
          "text": [
            "[Parallel(n_jobs=-1)]: Using backend LokyBackend with 2 concurrent workers.\n",
            "[Parallel(n_jobs=-1)]: Done  15 out of  15 | elapsed:    4.2s finished\n"
          ],
          "name": "stderr"
        },
        {
          "output_type": "stream",
          "text": [
            "Fitting 5 folds for each of 3 candidates, totalling 15 fits\n"
          ],
          "name": "stdout"
        },
        {
          "output_type": "stream",
          "text": [
            "[Parallel(n_jobs=-1)]: Using backend LokyBackend with 2 concurrent workers.\n",
            "[Parallel(n_jobs=-1)]: Done  15 out of  15 | elapsed:    4.1s finished\n"
          ],
          "name": "stderr"
        },
        {
          "output_type": "stream",
          "text": [
            "Fitting 5 folds for each of 3 candidates, totalling 15 fits\n"
          ],
          "name": "stdout"
        },
        {
          "output_type": "stream",
          "text": [
            "[Parallel(n_jobs=-1)]: Using backend LokyBackend with 2 concurrent workers.\n",
            "[Parallel(n_jobs=-1)]: Done  15 out of  15 | elapsed:    4.2s finished\n"
          ],
          "name": "stderr"
        },
        {
          "output_type": "stream",
          "text": [
            "Fitting 5 folds for each of 3 candidates, totalling 15 fits\n"
          ],
          "name": "stdout"
        },
        {
          "output_type": "stream",
          "text": [
            "[Parallel(n_jobs=-1)]: Using backend LokyBackend with 2 concurrent workers.\n",
            "[Parallel(n_jobs=-1)]: Done  15 out of  15 | elapsed:    4.0s finished\n"
          ],
          "name": "stderr"
        },
        {
          "output_type": "stream",
          "text": [
            "Fitting 5 folds for each of 3 candidates, totalling 15 fits\n"
          ],
          "name": "stdout"
        },
        {
          "output_type": "stream",
          "text": [
            "[Parallel(n_jobs=-1)]: Using backend LokyBackend with 2 concurrent workers.\n",
            "[Parallel(n_jobs=-1)]: Done  15 out of  15 | elapsed:    4.1s finished\n"
          ],
          "name": "stderr"
        },
        {
          "output_type": "stream",
          "text": [
            "[0.56880734 0.56880734 0.58715596 0.55963303 0.56481481]\n"
          ],
          "name": "stdout"
        }
      ]
    },
    {
      "cell_type": "code",
      "metadata": {
        "colab": {
          "base_uri": "https://localhost:8080/"
        },
        "id": "cN5safV2MM91",
        "outputId": "3c61115e-ae2a-41ca-b24a-eea3b48ca0ee"
      },
      "source": [
        "#printing standard deviation of accuracies\n",
        "print(all_accuracies.std())\n",
        "\n",
        "#earning a low variance meaning; a good indicator that the model will perform similar on all test sets and the prediction obtained is not by chance"
      ],
      "execution_count": null,
      "outputs": [
        {
          "output_type": "stream",
          "text": [
            "0.00928881117995757\n"
          ],
          "name": "stdout"
        }
      ]
    }
  ]
}