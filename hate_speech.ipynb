{
  "nbformat": 4,
  "nbformat_minor": 0,
  "metadata": {
    "colab": {
      "name": "hate_speech.ipynb",
      "provenance": [],
      "authorship_tag": "ABX9TyM9+NMuW67Lf3jm74iGrZo/",
      "include_colab_link": true
    },
    "kernelspec": {
      "display_name": "Python 3",
      "name": "python3"
    }
  },
  "cells": [
    {
      "cell_type": "markdown",
      "metadata": {
        "id": "view-in-github",
        "colab_type": "text"
      },
      "source": [
        "<a href=\"https://colab.research.google.com/github/ApollineFo/NLP---Hate-Speech/blob/main/hate_speech.ipynb\" target=\"_parent\"><img src=\"https://colab.research.google.com/assets/colab-badge.svg\" alt=\"Open In Colab\"/></a>"
      ]
    },
    {
      "cell_type": "code",
      "metadata": {
        "colab": {
          "base_uri": "https://localhost:8080/"
        },
        "id": "oen0lLTJjEvp",
        "outputId": "4d0051b0-690f-4aa9-e094-2dfc1463c935"
      },
      "source": [
        "#calling important libraries\n",
        "import pandas as pd #for data manipulation\n",
        "import numpy as np #for data manipulation\n",
        "import matplotlib as plt #for plotting\n",
        "import os #for ease of python system interaction\n",
        "import sys\n",
        "import re\n",
        "import nltk\n",
        "nltk.download(\"stopwords\")\n",
        "import pickle\n",
        "from nltk.corpus import stopwords\n",
        "from sklearn.feature_extraction.text import TfidfVectorizer\n",
        "from sklearn.pipeline import Pipeline\n",
        "from sklearn.svm import SVC\n",
        "from sklearn import svm\n",
        "from sklearn.model_selection import GridSearchCV\n",
        "from sklearn.multiclass import OneVsRestClassifier\n",
        "from sklearn import svm"
      ],
      "execution_count": 1,
      "outputs": [
        {
          "output_type": "stream",
          "text": [
            "[nltk_data] Downloading package stopwords to /root/nltk_data...\n",
            "[nltk_data]   Unzipping corpora/stopwords.zip.\n"
          ],
          "name": "stdout"
        }
      ]
    },
    {
      "cell_type": "code",
      "metadata": {
        "colab": {
          "base_uri": "https://localhost:8080/",
          "height": 195
        },
        "id": "ZSfRHiZinjcz",
        "outputId": "e172ecc9-6689-44fe-eeb8-acf1c0d93d49"
      },
      "source": [
        "#retrieving the data\n",
        "url = \"https://raw.githubusercontent.com/ApollineFo/NPL/main/data/labeled_data.csv\"\n",
        "\n",
        "data = pd.read_csv(url)\n",
        "#checking the dataset features\n",
        "data.keys()\n",
        "\n",
        "#removing offensive tweets\n",
        "data = data[data[\"class\"] !=1]\n",
        "data.head()"
      ],
      "execution_count": 2,
      "outputs": [
        {
          "output_type": "execute_result",
          "data": {
            "text/html": [
              "<div>\n",
              "<style scoped>\n",
              "    .dataframe tbody tr th:only-of-type {\n",
              "        vertical-align: middle;\n",
              "    }\n",
              "\n",
              "    .dataframe tbody tr th {\n",
              "        vertical-align: top;\n",
              "    }\n",
              "\n",
              "    .dataframe thead th {\n",
              "        text-align: right;\n",
              "    }\n",
              "</style>\n",
              "<table border=\"1\" class=\"dataframe\">\n",
              "  <thead>\n",
              "    <tr style=\"text-align: right;\">\n",
              "      <th></th>\n",
              "      <th>Unnamed: 0</th>\n",
              "      <th>count</th>\n",
              "      <th>hate_speech</th>\n",
              "      <th>offensive_language</th>\n",
              "      <th>neither</th>\n",
              "      <th>class</th>\n",
              "      <th>tweet</th>\n",
              "    </tr>\n",
              "  </thead>\n",
              "  <tbody>\n",
              "    <tr>\n",
              "      <th>0</th>\n",
              "      <td>0</td>\n",
              "      <td>3</td>\n",
              "      <td>0</td>\n",
              "      <td>0</td>\n",
              "      <td>3</td>\n",
              "      <td>2</td>\n",
              "      <td>!!! RT @mayasolovely: As a woman you shouldn't...</td>\n",
              "    </tr>\n",
              "    <tr>\n",
              "      <th>40</th>\n",
              "      <td>40</td>\n",
              "      <td>3</td>\n",
              "      <td>0</td>\n",
              "      <td>1</td>\n",
              "      <td>2</td>\n",
              "      <td>2</td>\n",
              "      <td>\" momma said no pussy cats inside my doghouse \"</td>\n",
              "    </tr>\n",
              "    <tr>\n",
              "      <th>63</th>\n",
              "      <td>63</td>\n",
              "      <td>3</td>\n",
              "      <td>0</td>\n",
              "      <td>0</td>\n",
              "      <td>3</td>\n",
              "      <td>2</td>\n",
              "      <td>\"@Addicted2Guys: -SimplyAddictedToGuys http://...</td>\n",
              "    </tr>\n",
              "    <tr>\n",
              "      <th>66</th>\n",
              "      <td>66</td>\n",
              "      <td>3</td>\n",
              "      <td>0</td>\n",
              "      <td>1</td>\n",
              "      <td>2</td>\n",
              "      <td>2</td>\n",
              "      <td>\"@AllAboutManFeet: http://t.co/3gzUpfuMev\" woo...</td>\n",
              "    </tr>\n",
              "    <tr>\n",
              "      <th>67</th>\n",
              "      <td>67</td>\n",
              "      <td>3</td>\n",
              "      <td>0</td>\n",
              "      <td>1</td>\n",
              "      <td>2</td>\n",
              "      <td>2</td>\n",
              "      <td>\"@Allyhaaaaa: Lemmie eat a Oreo &amp;amp; do these...</td>\n",
              "    </tr>\n",
              "  </tbody>\n",
              "</table>\n",
              "</div>"
            ],
            "text/plain": [
              "    Unnamed: 0  count  ...  class                                              tweet\n",
              "0            0      3  ...      2  !!! RT @mayasolovely: As a woman you shouldn't...\n",
              "40          40      3  ...      2    \" momma said no pussy cats inside my doghouse \"\n",
              "63          63      3  ...      2  \"@Addicted2Guys: -SimplyAddictedToGuys http://...\n",
              "66          66      3  ...      2  \"@AllAboutManFeet: http://t.co/3gzUpfuMev\" woo...\n",
              "67          67      3  ...      2  \"@Allyhaaaaa: Lemmie eat a Oreo &amp; do these...\n",
              "\n",
              "[5 rows x 7 columns]"
            ]
          },
          "metadata": {
            "tags": []
          },
          "execution_count": 2
        }
      ]
    },
    {
      "cell_type": "code",
      "metadata": {
        "id": "yI1eEvQsUBjY"
      },
      "source": [
        "#extracting only tweets as features\n",
        "features = data.iloc[:,6].values\n",
        "#extracting labels\n",
        "classes = data.iloc[:,5].values"
      ],
      "execution_count": 3,
      "outputs": []
    },
    {
      "cell_type": "code",
      "metadata": {
        "id": "UdI4T0vGWqNE"
      },
      "source": [
        "#preprocessing tweets\n",
        "processed_features = []\n",
        "\n",
        "for sentence in range(0, len(features)):\n",
        "    #Removing special characters\n",
        "    processed_feature = re.sub(r'\\W', ' ', str(features[sentence]))\n",
        "    #removing single characters\n",
        "    processed_feature= re.sub(r'\\s+[a-zA-Z]\\s+', ' ', processed_feature)\n",
        "    #Removing single characters from the start\n",
        "    processed_feature = re.sub(r'\\^[a-zA-Z]\\s+', ' ', processed_feature) \n",
        "    #Substituting multiple spaces with single space\n",
        "    processed_feature = re.sub(r'\\s+', ' ', processed_feature, flags=re.I)\n",
        "    #Removing prefixed 'b'\n",
        "    processed_feature = re.sub(r'^b\\s+', '', processed_feature)\n",
        "    #Converting to Lowercase\n",
        "    processed_feature = processed_feature.lower()\n",
        "\n",
        "    processed_features.append(processed_feature)"
      ],
      "execution_count": 4,
      "outputs": []
    },
    {
      "cell_type": "code",
      "metadata": {
        "id": "CVqwCRVe8jyO"
      },
      "source": [
        "#specifying parameters\n",
        "parameters = [\n",
        "    {\n",
        "    'vect__max_df': (0.9,), #ignore terms with frequency higher than aforementioned\n",
        "        'vect__min_df': (2,), #ignore lower frequencies than aforementioned\n",
        "        'vect__ngram_range': ((1, 2),), #only unigrams\n",
        "        'clf__estimator__kernel': ['rbf'], #gausian kernel\n",
        "    'clf__estimator__gamma': [1e0,], #a gamma of zero\n",
        "        'clf__estimator__C': [1,],\n",
        "        'clf__estimator__class_weight': [None, \"balanced\"] #balanced weight\n",
        "    },\n",
        "    {\n",
        "        'vect__max_df': (0.9,),\n",
        "        'vect__min_df': (2,),\n",
        "        'vect__ngram_range': ((1, 2),),\n",
        "        'clf__estimator__kernel': ['linear'], #linear kernel\n",
        "    'clf__estimator__C': [1,]\n",
        "    }\n",
        "]"
      ],
      "execution_count": 5,
      "outputs": []
    },
    {
      "cell_type": "code",
      "metadata": {
        "id": "ZQv_UCVxeGUw"
      },
      "source": [
        "# building a pipeline\n",
        "pipeline = Pipeline([('vect', TfidfVectorizer(parameters)),                     \n",
        "    ('clf', OneVsRestClassifier(SVC(probability=True))),\n",
        "])"
      ],
      "execution_count": 6,
      "outputs": []
    },
    {
      "cell_type": "code",
      "metadata": {
        "id": "TgTn8OKX8V01"
      },
      "source": [
        "#splitting the dataset to trian and test set\n",
        "#80 percent of data for training, 20 percent for testing\n",
        "from sklearn.model_selection import train_test_split\n",
        "\n",
        "X_train, X_test, y_train, y_test = train_test_split(processed_features, classes, test_size=0.2, random_state=42)"
      ],
      "execution_count": 7,
      "outputs": []
    },
    {
      "cell_type": "code",
      "metadata": {
        "id": "WfRSuZDA7I5y"
      },
      "source": [
        "#grid search\n",
        "grid_search = GridSearchCV(pipeline, parameters, n_jobs=-1, verbose=1)"
      ],
      "execution_count": 8,
      "outputs": []
    },
    {
      "cell_type": "code",
      "metadata": {
        "id": "QBQCaWbPrpmj",
        "colab": {
          "base_uri": "https://localhost:8080/"
        },
        "outputId": "605b1a2a-b92e-4b70-9683-eae03292750b"
      },
      "source": [
        "#fitting the classifier\n",
        "classifier = grid_search.fit(X_train, y_train)\n",
        "\n",
        "#predicting\n",
        "y_predict = classifier.predict(X_test)"
      ],
      "execution_count": 9,
      "outputs": [
        {
          "output_type": "stream",
          "text": [
            "Fitting 5 folds for each of 3 candidates, totalling 15 fits\n"
          ],
          "name": "stdout"
        },
        {
          "output_type": "stream",
          "text": [
            "[Parallel(n_jobs=-1)]: Using backend LokyBackend with 2 concurrent workers.\n",
            "[Parallel(n_jobs=-1)]: Done  15 out of  15 | elapsed:  1.8min finished\n"
          ],
          "name": "stderr"
        }
      ]
    },
    {
      "cell_type": "code",
      "metadata": {
        "colab": {
          "base_uri": "https://localhost:8080/"
        },
        "id": "pmnpiNahnXOe",
        "outputId": "6d08ad17-3c72-421b-acec-71d4a15ddcf7"
      },
      "source": [
        "#confusion matrix\n",
        "from sklearn.metrics import classification_report, confusion_matrix\n",
        "print(confusion_matrix(y_test, y_predict))\n",
        "print(classification_report(y_test, y_predict))"
      ],
      "execution_count": 10,
      "outputs": [
        {
          "output_type": "stream",
          "text": [
            "[[222  65]\n",
            " [ 16 816]]\n",
            "              precision    recall  f1-score   support\n",
            "\n",
            "           0       0.93      0.77      0.85       287\n",
            "           2       0.93      0.98      0.95       832\n",
            "\n",
            "    accuracy                           0.93      1119\n",
            "   macro avg       0.93      0.88      0.90      1119\n",
            "weighted avg       0.93      0.93      0.93      1119\n",
            "\n"
          ],
          "name": "stdout"
        }
      ]
    },
    {
      "cell_type": "code",
      "metadata": {
        "colab": {
          "base_uri": "https://localhost:8080/"
        },
        "id": "T_gREW9ajN0f",
        "outputId": "de04e393-2333-4844-af53-081a07dbe60c"
      },
      "source": [
        "#evaluating the model with ROC AUC score\n",
        "from sklearn.metrics import roc_auc_score\n",
        "roc_auc_score(y_test, y_predict, multi_class=\"ovr\")\n",
        "\n",
        "#with a higher score than 0.5, signifies that our model is useful."
      ],
      "execution_count": 11,
      "outputs": [
        {
          "output_type": "execute_result",
          "data": {
            "text/plain": [
              "0.8771441972661485"
            ]
          },
          "metadata": {
            "tags": []
          },
          "execution_count": 11
        }
      ]
    },
    {
      "cell_type": "code",
      "metadata": {
        "colab": {
          "base_uri": "https://localhost:8080/"
        },
        "id": "05SkEsEdI2pL",
        "outputId": "78cd29b7-51f0-4fb9-966d-23a25f3471dc"
      },
      "source": [
        "#evaluating the model using cross validation\n",
        "from sklearn.model_selection import cross_val_score\n",
        "all_accuracies = cross_val_score(estimator=classifier, X=X_train, y=y_train, cv=5)\n",
        "\n",
        "#returning accuracies of the folds\n",
        "print(all_accuracies)"
      ],
      "execution_count": 12,
      "outputs": [
        {
          "output_type": "stream",
          "text": [
            "Fitting 5 folds for each of 3 candidates, totalling 15 fits\n"
          ],
          "name": "stdout"
        },
        {
          "output_type": "stream",
          "text": [
            "[Parallel(n_jobs=-1)]: Using backend LokyBackend with 2 concurrent workers.\n",
            "[Parallel(n_jobs=-1)]: Done  15 out of  15 | elapsed:  1.1min finished\n"
          ],
          "name": "stderr"
        },
        {
          "output_type": "stream",
          "text": [
            "Fitting 5 folds for each of 3 candidates, totalling 15 fits\n"
          ],
          "name": "stdout"
        },
        {
          "output_type": "stream",
          "text": [
            "[Parallel(n_jobs=-1)]: Using backend LokyBackend with 2 concurrent workers.\n",
            "[Parallel(n_jobs=-1)]: Done  15 out of  15 | elapsed:  1.1min finished\n"
          ],
          "name": "stderr"
        },
        {
          "output_type": "stream",
          "text": [
            "Fitting 5 folds for each of 3 candidates, totalling 15 fits\n"
          ],
          "name": "stdout"
        },
        {
          "output_type": "stream",
          "text": [
            "[Parallel(n_jobs=-1)]: Using backend LokyBackend with 2 concurrent workers.\n",
            "[Parallel(n_jobs=-1)]: Done  15 out of  15 | elapsed:  1.2min finished\n"
          ],
          "name": "stderr"
        },
        {
          "output_type": "stream",
          "text": [
            "Fitting 5 folds for each of 3 candidates, totalling 15 fits\n"
          ],
          "name": "stdout"
        },
        {
          "output_type": "stream",
          "text": [
            "[Parallel(n_jobs=-1)]: Using backend LokyBackend with 2 concurrent workers.\n",
            "[Parallel(n_jobs=-1)]: Done  15 out of  15 | elapsed:  1.1min finished\n"
          ],
          "name": "stderr"
        },
        {
          "output_type": "stream",
          "text": [
            "Fitting 5 folds for each of 3 candidates, totalling 15 fits\n"
          ],
          "name": "stdout"
        },
        {
          "output_type": "stream",
          "text": [
            "[Parallel(n_jobs=-1)]: Using backend LokyBackend with 2 concurrent workers.\n",
            "[Parallel(n_jobs=-1)]: Done  15 out of  15 | elapsed:  1.2min finished\n"
          ],
          "name": "stderr"
        },
        {
          "output_type": "stream",
          "text": [
            "[0.92625698 0.92849162 0.9273743  0.93072626 0.9261745 ]\n"
          ],
          "name": "stdout"
        }
      ]
    },
    {
      "cell_type": "code",
      "metadata": {
        "colab": {
          "base_uri": "https://localhost:8080/"
        },
        "id": "cN5safV2MM91",
        "outputId": "16d4fbb5-8021-4e1b-e9fb-92a9a332f26b"
      },
      "source": [
        "#printing standard deviation of accuracies\n",
        "print(all_accuracies.std())\n",
        "\n",
        "#earning a low variance meaning; a good indicator that the model will perform similar on all test sets and the prediction obtained is not by chance"
      ],
      "execution_count": 13,
      "outputs": [
        {
          "output_type": "stream",
          "text": [
            "0.0016879328960567243\n"
          ],
          "name": "stdout"
        }
      ]
    },
    {
      "cell_type": "code",
      "metadata": {
        "id": "SHg9BAb-wpPU",
        "outputId": "abff7870-196d-4f22-e7f7-85f5e7a3f337",
        "colab": {
          "base_uri": "https://localhost:8080/",
          "height": 295
        }
      },
      "source": [
        "#visually evaluating the model\n",
        "#function to plot ROC curve\n",
        "def plot_roc_curve(fpr, tpr):\n",
        "    plt.plot(fpr, tpr, color='orange', label='ROC')\n",
        "    plt.plot([0, 1], [0, 1], color='darkblue', linestyle='--')\n",
        "    plt.xlabel('False Positive Rate')\n",
        "    plt.ylabel('True Positive Rate')\n",
        "    plt.title('ROC Curve for Hate Speech')\n",
        "    plt.legend(loc = 'lower right')\n",
        "    plt.show()\n",
        "\n",
        "from sklearn.metrics import roc_curve\n",
        "#calculating the false and true positive rates for all thresholds of the classification\n",
        "probs = classifier.predict_proba(X_test)[::,1]\n",
        "#computing auc score\n",
        "auc = roc_auc_score(y_test, probs)\n",
        "fpr, tpr, thresholds = roc_curve(y_test, probs, pos_label=0)\n",
        "\n",
        "#plotting the curve\n",
        "plot_roc_curve(fpr, tpr)"
      ],
      "execution_count": 60,
      "outputs": [
        {
          "output_type": "display_data",
          "data": {
            "image/png": "[encoded data removed]",
            "text/plain": [
              "<Figure size 432x288 with 1 Axes>"
            ]
          },
          "metadata": {
            "tags": [],
            "needs_background": "light"
          }
        }
      ]
    }
  ]
}